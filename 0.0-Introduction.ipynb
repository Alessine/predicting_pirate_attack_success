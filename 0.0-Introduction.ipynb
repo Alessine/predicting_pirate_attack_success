{
 "cells": [
  {
   "cell_type": "markdown",
   "metadata": {},
   "source": [
    "# Predicting the Success of Pirate Attacks\n",
    "___"
   ]
  },
  {
   "cell_type": "markdown",
   "metadata": {},
   "source": [
    "<img src = \"pirates_asterix.jpg\" width = \"600\" align = \"left\"/>"
   ]
  },
  {
   "cell_type": "markdown",
   "metadata": {},
   "source": [
    "Image copyright: Asterix & Obelix\n",
    "___"
   ]
  },
  {
   "cell_type": "markdown",
   "metadata": {},
   "source": [
    "## Assignment Description\n",
    "\n",
    "You are provided with a dataset on vessels that have been attacked by pirates. Your task is to predict whether an attack is likely to be successful.\n",
    "\n",
    "Clean and preprocess the data. This includes:\n",
    "- Select features.\n",
    "- One-hot encode categorical variables.\n",
    "- How do you handle the date?\n",
    "- Aggregate categories with few occurrences.\n",
    "\n",
    "Compare the performance of different models. Run all of them, identify the best performing one and tune it. \n",
    "\n",
    "Finally, explain how it reaches a prediction.\n",
    "\n",
    "**Note:** This repo took shape during my Data Science course at Propulsion Academy and was inspired by various in-class exercises. It gives a good overview of the content covered during the first month."
   ]
  },
  {
   "cell_type": "code",
   "execution_count": null,
   "metadata": {},
   "outputs": [],
   "source": []
  }
 ],
 "metadata": {
  "kernelspec": {
   "display_name": "Python 3",
   "language": "python",
   "name": "python3"
  },
  "language_info": {
   "codemirror_mode": {
    "name": "ipython",
    "version": 3
   },
   "file_extension": ".py",
   "mimetype": "text/x-python",
   "name": "python",
   "nbconvert_exporter": "python",
   "pygments_lexer": "ipython3",
   "version": "3.8.5"
  },
  "toc": {
   "base_numbering": 1,
   "nav_menu": {},
   "number_sections": true,
   "sideBar": true,
   "skip_h1_title": true,
   "title_cell": "Table of Contents",
   "title_sidebar": "Contents",
   "toc_cell": false,
   "toc_position": {},
   "toc_section_display": true,
   "toc_window_display": false
  }
 },
 "nbformat": 4,
 "nbformat_minor": 4
}
