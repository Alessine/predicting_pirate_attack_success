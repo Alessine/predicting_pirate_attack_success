{
 "cells": [
  {
   "cell_type": "markdown",
   "metadata": {
    "toc": true
   },
   "source": [
    "<h1>Table of Contents<span class=\"tocSkip\"></span></h1>\n",
    "<div class=\"toc\"><ul class=\"toc-item\"><li><span><a href=\"#6)-Finding-the-best-model\" data-toc-modified-id=\"6)-Finding-the-best-model-1\">6) Finding the best model</a></span><ul class=\"toc-item\"><li><span><a href=\"#Random-Forest-Model\" data-toc-modified-id=\"Random-Forest-Model-1.1\">Random Forest Model</a></span><ul class=\"toc-item\"><li><span><a href=\"#Hyperparameter-tuning\" data-toc-modified-id=\"Hyperparameter-tuning-1.1.1\">Hyperparameter tuning</a></span></li><li><span><a href=\"#Test-Result\" data-toc-modified-id=\"Test-Result-1.1.2\">Test Result</a></span></li></ul></li></ul></li></ul></div>"
   ]
  },
  {
   "cell_type": "markdown",
   "metadata": {},
   "source": [
    "## 6) Finding the best model"
   ]
  },
  {
   "cell_type": "code",
   "execution_count": 1,
   "metadata": {},
   "outputs": [],
   "source": [
    "import pickle\n",
    "\n",
    "import numpy as np\n",
    "import pandas as pd\n",
    "import matplotlib.pyplot as plt\n",
    "import seaborn as sns\n",
    "\n",
    "from sklearn import metrics\n",
    "from sklearn.metrics import confusion_matrix, classification_report\n",
    "from sklearn.model_selection import GridSearchCV\n",
    "from sklearn.model_selection import RandomizedSearchCV\n",
    "\n",
    "plt.style.use(\"seaborn-white\")\n",
    "plt.rcParams[\"font.size\"] = 14\n",
    "colors = sns.color_palette(\"Paired\")"
   ]
  },
  {
   "cell_type": "code",
   "execution_count": 2,
   "metadata": {},
   "outputs": [],
   "source": [
    "X_train_res = pd.read_csv(f\"data/X_train_res.csv\", index_col = 0)\n",
    "y_train_res = np.ravel(pd.read_csv(f\"data/y_train_res.csv\", index_col = 0))\n",
    "X_test = pd.read_csv(f\"data/X_test.csv\", index_col = 0)\n",
    "y_test = np.ravel(pd.read_csv(f\"data/y_test.csv\", index_col = 0))"
   ]
  },
  {
   "cell_type": "code",
   "execution_count": 3,
   "metadata": {},
   "outputs": [],
   "source": [
    "filename = 'models/rfc_model.sav'\n",
    "rfc = pickle.load(open(filename, 'rb'))"
   ]
  },
  {
   "cell_type": "markdown",
   "metadata": {},
   "source": [
    "### Random Forest Model"
   ]
  },
  {
   "cell_type": "markdown",
   "metadata": {},
   "source": [
    "#### Hyperparameter tuning"
   ]
  },
  {
   "cell_type": "code",
   "execution_count": 4,
   "metadata": {},
   "outputs": [],
   "source": [
    "param_grid_rfc = {\"n_estimators\": [100, 200, 300, 400, 500, 600],\n",
    "               \"max_features\": [\"auto\", \"sqrt\", \"log2\"],\n",
    "               'max_depth': [20, 30, 40, 50, 60, 70, None],\n",
    "               'min_samples_split': [2, 3, 4, 5],\n",
    "               'min_samples_leaf': [1, 2, 3, 4],\n",
    "               'bootstrap': [True, False]}\n"
   ]
  },
  {
   "cell_type": "code",
   "execution_count": 5,
   "metadata": {},
   "outputs": [],
   "source": [
    "random_grid_rfc = RandomizedSearchCV( \n",
    "    rfc,\n",
    "    param_grid_rfc, \n",
    "    scoring = 'accuracy', \n",
    "    cv = 10)"
   ]
  },
  {
   "cell_type": "code",
   "execution_count": 6,
   "metadata": {},
   "outputs": [],
   "source": [
    "random_grid_rfc.fit(X_train_res, y_train_res);"
   ]
  },
  {
   "cell_type": "code",
   "execution_count": 7,
   "metadata": {},
   "outputs": [
    {
     "data": {
      "text/html": [
       "<div>\n",
       "<style scoped>\n",
       "    .dataframe tbody tr th:only-of-type {\n",
       "        vertical-align: middle;\n",
       "    }\n",
       "\n",
       "    .dataframe tbody tr th {\n",
       "        vertical-align: top;\n",
       "    }\n",
       "\n",
       "    .dataframe thead th {\n",
       "        text-align: right;\n",
       "    }\n",
       "</style>\n",
       "<table border=\"1\" class=\"dataframe\">\n",
       "  <thead>\n",
       "    <tr style=\"text-align: right;\">\n",
       "      <th></th>\n",
       "      <th>model_hyperparams</th>\n",
       "      <th>mean_val_score</th>\n",
       "      <th>std_val_score</th>\n",
       "    </tr>\n",
       "  </thead>\n",
       "  <tbody>\n",
       "    <tr>\n",
       "      <th>0</th>\n",
       "      <td>{'n_estimators': 100, 'min_samples_split': 5, ...</td>\n",
       "      <td>0.696883</td>\n",
       "      <td>0.088912</td>\n",
       "    </tr>\n",
       "    <tr>\n",
       "      <th>1</th>\n",
       "      <td>{'n_estimators': 500, 'min_samples_split': 2, ...</td>\n",
       "      <td>0.693133</td>\n",
       "      <td>0.097839</td>\n",
       "    </tr>\n",
       "    <tr>\n",
       "      <th>2</th>\n",
       "      <td>{'n_estimators': 200, 'min_samples_split': 5, ...</td>\n",
       "      <td>0.693102</td>\n",
       "      <td>0.090234</td>\n",
       "    </tr>\n",
       "  </tbody>\n",
       "</table>\n",
       "</div>"
      ],
      "text/plain": [
       "                                   model_hyperparams  mean_val_score  \\\n",
       "0  {'n_estimators': 100, 'min_samples_split': 5, ...        0.696883   \n",
       "1  {'n_estimators': 500, 'min_samples_split': 2, ...        0.693133   \n",
       "2  {'n_estimators': 200, 'min_samples_split': 5, ...        0.693102   \n",
       "\n",
       "   std_val_score  \n",
       "0       0.088912  \n",
       "1       0.097839  \n",
       "2       0.090234  "
      ]
     },
     "execution_count": 7,
     "metadata": {},
     "output_type": "execute_result"
    }
   ],
   "source": [
    "# Store the results in a data frame\n",
    "random_rfc_cv_results = random_grid_rfc.cv_results_\n",
    "\n",
    "random_grid_rfc_results = pd.DataFrame(\n",
    "    {\n",
    "        'model_hyperparams': random_rfc_cv_results['params'],\n",
    "        'mean_val_score': random_rfc_cv_results['mean_test_score'],\n",
    "        'std_val_score': random_rfc_cv_results['std_test_score']\n",
    "     })\n",
    "\n",
    "random_grid_rfc_results = random_grid_rfc_results.sort_values(\"mean_val_score\", ascending = False\n",
    "                                                     ).reset_index(drop = True)\n",
    "random_grid_rfc_results.head(3)"
   ]
  },
  {
   "cell_type": "code",
   "execution_count": 8,
   "metadata": {},
   "outputs": [
    {
     "data": {
      "text/plain": [
       "{'n_estimators': 100,\n",
       " 'min_samples_split': 5,\n",
       " 'min_samples_leaf': 3,\n",
       " 'max_features': 'sqrt',\n",
       " 'max_depth': 60,\n",
       " 'bootstrap': False}"
      ]
     },
     "execution_count": 8,
     "metadata": {},
     "output_type": "execute_result"
    }
   ],
   "source": [
    "random_grid_rfc_results.iloc[0, 0]"
   ]
  },
  {
   "cell_type": "markdown",
   "metadata": {},
   "source": [
    "The randomized search gives a slight improvement in the model's performance. The following grid search allows a more refined search for the best hyperparameters."
   ]
  },
  {
   "cell_type": "markdown",
   "metadata": {},
   "source": [
    "#### Test Result"
   ]
  },
  {
   "cell_type": "code",
   "execution_count": 9,
   "metadata": {},
   "outputs": [
    {
     "name": "stdout",
     "output_type": "stream",
     "text": [
      "              precision    recall  f1-score   support\n",
      "\n",
      "           0       0.65      0.64      0.64        55\n",
      "           1       0.78      0.78      0.78        88\n",
      "\n",
      "    accuracy                           0.73       143\n",
      "   macro avg       0.71      0.71      0.71       143\n",
      "weighted avg       0.73      0.73      0.73       143\n",
      "\n",
      "0.7272727272727273\n"
     ]
    },
    {
     "data": {
      "image/png": "[encoded data removed]",
      "text/plain": [
       "<Figure size 432x288 with 2 Axes>"
      ]
     },
     "metadata": {},
     "output_type": "display_data"
    }
   ],
   "source": [
    "best_rfc_model = random_grid_rfc.best_estimator_\n",
    "best_rfc_predictions = best_rfc_model.predict(X_test)\n",
    "\n",
    "print(classification_report(y_test, best_rfc_predictions))\n",
    "print(best_rfc_model.score(X_test, y_test))\n",
    "best_rfc_cm = confusion_matrix(y_test, best_rfc_predictions)\n",
    "sns.heatmap(best_rfc_cm, annot=True, fmt='.2f', cmap = \"Blues\");"
   ]
  },
  {
   "cell_type": "markdown",
   "metadata": {},
   "source": [
    "We can also plot a ROC Curve to show the difference between the training and the testing accuracy."
   ]
  },
  {
   "cell_type": "code",
   "execution_count": 10,
   "metadata": {},
   "outputs": [
    {
     "data": {
      "image/png": "[encoded data removed]",
      "text/plain": [
       "<Figure size 720x432 with 1 Axes>"
      ]
     },
     "metadata": {},
     "output_type": "display_data"
    }
   ],
   "source": [
    "predictions_train = best_rfc_model.predict_proba(X_train_res)[:, 1]\n",
    "predictions_test = best_rfc_model.predict_proba(X_test)[:, 1]\n",
    "\n",
    "fpr_train, tpr_train, _ = metrics.roc_curve(y_train_res, predictions_train)\n",
    "fpr_test, tpr_test, _ = metrics.roc_curve(y_test, predictions_test)\n",
    "\n",
    "fig, ax = plt.subplots(figsize = (10, 6))\n",
    "plt.plot(fpr_train, tpr_train, \"b\", linewidth=2, markersize=4, label=\"Best training result\")\n",
    "plt.plot(fpr_test, tpr_test, \"r\", linewidth=2, markersize=4, label=\"Test result\")\n",
    "plt.plot([0, 1], [0, 1], linestyle = \":\", label = \"Reference line\")\n",
    "\n",
    "plt.title(\"ROC curve\")\n",
    "plt.xlabel(\"False Positive Rate\")\n",
    "plt.ylabel(\"True Positive Rate\")\n",
    "plt.ylim([0.0, 1.05])\n",
    "plt.xlim([0.0, 1.0])\n",
    "\n",
    "plt.legend();"
   ]
  },
  {
   "cell_type": "code",
   "execution_count": 11,
   "metadata": {},
   "outputs": [],
   "source": [
    "pd.DataFrame(best_rfc_predictions).to_csv(\"data/best_rfc_predictions.csv\")"
   ]
  },
  {
   "cell_type": "code",
   "execution_count": 12,
   "metadata": {},
   "outputs": [],
   "source": [
    "filename = 'models/best_rfc_model.sav'\n",
    "pickle.dump(best_rfc_model, open(filename, 'wb'))"
   ]
  }
 ],
 "metadata": {
  "kernelspec": {
   "display_name": "Python 3",
   "language": "python",
   "name": "python3"
  },
  "language_info": {
   "codemirror_mode": {
    "name": "ipython",
    "version": 3
   },
   "file_extension": ".py",
   "mimetype": "text/x-python",
   "name": "python",
   "nbconvert_exporter": "python",
   "pygments_lexer": "ipython3",
   "version": "3.8.5"
  },
  "toc": {
   "base_numbering": 1,
   "nav_menu": {
    "height": "401px",
    "width": "461px"
   },
   "number_sections": false,
   "sideBar": true,
   "skip_h1_title": false,
   "title_cell": "Table of Contents",
   "title_sidebar": "Contents",
   "toc_cell": true,
   "toc_position": {
    "height": "calc(100% - 180px)",
    "left": "10px",
    "top": "150px",
    "width": "221.3px"
   },
   "toc_section_display": true,
   "toc_window_display": true
  }
 },
 "nbformat": 4,
 "nbformat_minor": 4
}
