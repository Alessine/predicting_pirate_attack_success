{
 "cells": [
  {
   "cell_type": "markdown",
   "metadata": {
    "toc": true
   },
   "source": [
    "<h1>Table of Contents<span class=\"tocSkip\"></span></h1>\n",
    "<div class=\"toc\"><ul class=\"toc-item\"><li><span><a href=\"#2)-Data-cleaning-and-preprocessing\" data-toc-modified-id=\"2)-Data-cleaning-and-preprocessing-1\">2) Data cleaning and preprocessing</a></span><ul class=\"toc-item\"><li><span><a href=\"#Improve-readability\" data-toc-modified-id=\"Improve-readability-1.1\">Improve readability</a></span></li><li><span><a href=\"#Extract-useful-information-from-the-time-stamp\" data-toc-modified-id=\"Extract-useful-information-from-the-time-stamp-1.2\">Extract useful information from the time stamp</a></span></li><li><span><a href=\"#Check-the-data-types-and-classes\" data-toc-modified-id=\"Check-the-data-types-and-classes-1.3\">Check the data types and classes</a></span></li><li><span><a href=\"#Filling-in-missing-values\" data-toc-modified-id=\"Filling-in-missing-values-1.4\">Filling in missing values</a></span></li><li><span><a href=\"#Aggregate-categories-with-few-occurrences\" data-toc-modified-id=\"Aggregate-categories-with-few-occurrences-1.5\">Aggregate categories with few occurrences</a></span></li></ul></li></ul></div>"
   ]
  },
  {
   "cell_type": "markdown",
   "metadata": {},
   "source": [
    "## 2) Data cleaning and preprocessing"
   ]
  },
  {
   "cell_type": "code",
   "execution_count": 19,
   "metadata": {},
   "outputs": [],
   "source": [
    "import pandas as pd"
   ]
  },
  {
   "cell_type": "code",
   "execution_count": 20,
   "metadata": {},
   "outputs": [
    {
     "data": {
      "text/html": [
       "<div>\n",
       "<style scoped>\n",
       "    .dataframe tbody tr th:only-of-type {\n",
       "        vertical-align: middle;\n",
       "    }\n",
       "\n",
       "    .dataframe tbody tr th {\n",
       "        vertical-align: top;\n",
       "    }\n",
       "\n",
       "    .dataframe thead th {\n",
       "        text-align: right;\n",
       "    }\n",
       "</style>\n",
       "<table border=\"1\" class=\"dataframe\">\n",
       "  <thead>\n",
       "    <tr style=\"text-align: right;\">\n",
       "      <th></th>\n",
       "      <th>DATETIME (LOCAL)</th>\n",
       "      <th>DATETIME (UTC)</th>\n",
       "      <th>DATE (LT)</th>\n",
       "      <th>DATE (UTC)</th>\n",
       "      <th>REGION</th>\n",
       "      <th>COUNTRY</th>\n",
       "      <th>INCIDENT TYPE</th>\n",
       "      <th>VESSEL TYPE</th>\n",
       "      <th>MAERSK?</th>\n",
       "      <th>VESSEL ACTIVITY LOCATION</th>\n",
       "      <th>LAT</th>\n",
       "      <th>LONG</th>\n",
       "      <th>TIMEZONE</th>\n",
       "      <th>TIME OF DAY</th>\n",
       "      <th>ATTACKS</th>\n",
       "      <th>ATTACK SUCCESS</th>\n",
       "    </tr>\n",
       "  </thead>\n",
       "  <tbody>\n",
       "    <tr>\n",
       "      <th>1</th>\n",
       "      <td>2016-01-30 23:34:00</td>\n",
       "      <td>2016-01-30 22:34:00</td>\n",
       "      <td>2016-01-30</td>\n",
       "      <td>2016-01-30</td>\n",
       "      <td>WEST AFRICA</td>\n",
       "      <td>NIGERIA</td>\n",
       "      <td>FAILED ATTACK, HIJACKING</td>\n",
       "      <td>CONTAINER SHIP</td>\n",
       "      <td>0</td>\n",
       "      <td>OFF SHORE</td>\n",
       "      <td>3.000000</td>\n",
       "      <td>6.250000</td>\n",
       "      <td>Africa/Lagos</td>\n",
       "      <td>EVENING</td>\n",
       "      <td>1</td>\n",
       "      <td>0</td>\n",
       "    </tr>\n",
       "    <tr>\n",
       "      <th>2</th>\n",
       "      <td>2016-01-29 23:40:00</td>\n",
       "      <td>2016-01-29 22:40:00</td>\n",
       "      <td>2016-01-29</td>\n",
       "      <td>2016-01-29</td>\n",
       "      <td>WEST AFRICA</td>\n",
       "      <td>NIGERIA</td>\n",
       "      <td>KIDNAP/RANSOM AT SEA</td>\n",
       "      <td>PRODUCT TANKER</td>\n",
       "      <td>0</td>\n",
       "      <td>OFF SHORE</td>\n",
       "      <td>2.500000</td>\n",
       "      <td>5.750000</td>\n",
       "      <td>Africa/Lagos</td>\n",
       "      <td>EVENING</td>\n",
       "      <td>1</td>\n",
       "      <td>1</td>\n",
       "    </tr>\n",
       "    <tr>\n",
       "      <th>3</th>\n",
       "      <td>2016-01-28 03:00:00</td>\n",
       "      <td>2016-01-28 02:00:00</td>\n",
       "      <td>2016-01-28</td>\n",
       "      <td>2016-01-28</td>\n",
       "      <td>SOUTH ASIA</td>\n",
       "      <td>INDIA</td>\n",
       "      <td>FAILED ATTACK, ROBBERY</td>\n",
       "      <td>PRODUCT TANKER</td>\n",
       "      <td>0</td>\n",
       "      <td>ANCHORAGE</td>\n",
       "      <td>22.816667</td>\n",
       "      <td>70.116667</td>\n",
       "      <td>Asia/Kolkata</td>\n",
       "      <td>NIGHT</td>\n",
       "      <td>1</td>\n",
       "      <td>0</td>\n",
       "    </tr>\n",
       "    <tr>\n",
       "      <th>4</th>\n",
       "      <td>NaN</td>\n",
       "      <td>NaN</td>\n",
       "      <td>2016-01-27</td>\n",
       "      <td>2016-01-27</td>\n",
       "      <td>HORN OF AFRICA/ GULF OF ADEN</td>\n",
       "      <td>SOMALIA</td>\n",
       "      <td>SUSPICIOUS ACTIVITY AT SEA</td>\n",
       "      <td>NaN</td>\n",
       "      <td>0</td>\n",
       "      <td>OFF SHORE</td>\n",
       "      <td>13.998747</td>\n",
       "      <td>54.112792</td>\n",
       "      <td>Asia/Riyadh</td>\n",
       "      <td>UNKNOWN</td>\n",
       "      <td>1</td>\n",
       "      <td>0</td>\n",
       "    </tr>\n",
       "    <tr>\n",
       "      <th>5</th>\n",
       "      <td>2016-01-25 23:55:00</td>\n",
       "      <td>2016-01-25 22:55:00</td>\n",
       "      <td>2016-01-25</td>\n",
       "      <td>2016-01-25</td>\n",
       "      <td>SOUTH AMERICA</td>\n",
       "      <td>VENEZUELA</td>\n",
       "      <td>THEFT AT ANCHORAGE</td>\n",
       "      <td>GENERAL CARGO VESSEL</td>\n",
       "      <td>0</td>\n",
       "      <td>ANCHORAGE</td>\n",
       "      <td>10.267500</td>\n",
       "      <td>-63.432500</td>\n",
       "      <td>America/Caracas</td>\n",
       "      <td>EVENING</td>\n",
       "      <td>1</td>\n",
       "      <td>1</td>\n",
       "    </tr>\n",
       "  </tbody>\n",
       "</table>\n",
       "</div>"
      ],
      "text/plain": [
       "      DATETIME (LOCAL)       DATETIME (UTC)   DATE (LT)  DATE (UTC)  \\\n",
       "1  2016-01-30 23:34:00  2016-01-30 22:34:00  2016-01-30  2016-01-30   \n",
       "2  2016-01-29 23:40:00  2016-01-29 22:40:00  2016-01-29  2016-01-29   \n",
       "3  2016-01-28 03:00:00  2016-01-28 02:00:00  2016-01-28  2016-01-28   \n",
       "4                  NaN                  NaN  2016-01-27  2016-01-27   \n",
       "5  2016-01-25 23:55:00  2016-01-25 22:55:00  2016-01-25  2016-01-25   \n",
       "\n",
       "                         REGION    COUNTRY               INCIDENT TYPE  \\\n",
       "1                   WEST AFRICA    NIGERIA    FAILED ATTACK, HIJACKING   \n",
       "2                   WEST AFRICA    NIGERIA        KIDNAP/RANSOM AT SEA   \n",
       "3                    SOUTH ASIA      INDIA      FAILED ATTACK, ROBBERY   \n",
       "4  HORN OF AFRICA/ GULF OF ADEN    SOMALIA  SUSPICIOUS ACTIVITY AT SEA   \n",
       "5                 SOUTH AMERICA  VENEZUELA          THEFT AT ANCHORAGE   \n",
       "\n",
       "            VESSEL TYPE  MAERSK? VESSEL ACTIVITY LOCATION        LAT  \\\n",
       "1        CONTAINER SHIP        0                OFF SHORE   3.000000   \n",
       "2        PRODUCT TANKER        0                OFF SHORE   2.500000   \n",
       "3        PRODUCT TANKER        0                ANCHORAGE  22.816667   \n",
       "4                   NaN        0                OFF SHORE  13.998747   \n",
       "5  GENERAL CARGO VESSEL        0                ANCHORAGE  10.267500   \n",
       "\n",
       "        LONG         TIMEZONE TIME OF DAY  ATTACKS  ATTACK SUCCESS  \n",
       "1   6.250000     Africa/Lagos     EVENING        1               0  \n",
       "2   5.750000     Africa/Lagos     EVENING        1               1  \n",
       "3  70.116667     Asia/Kolkata       NIGHT        1               0  \n",
       "4  54.112792      Asia/Riyadh     UNKNOWN        1               0  \n",
       "5 -63.432500  America/Caracas     EVENING        1               1  "
      ]
     },
     "execution_count": 20,
     "metadata": {},
     "output_type": "execute_result"
    }
   ],
   "source": [
    "pirate_data = pd.read_csv(f\"data/pirate_data.csv\", index_col = 0)\n",
    "pirate_data.head()"
   ]
  },
  {
   "cell_type": "markdown",
   "metadata": {},
   "source": [
    "### Improve readability"
   ]
  },
  {
   "cell_type": "code",
   "execution_count": 21,
   "metadata": {},
   "outputs": [
    {
     "name": "stdout",
     "output_type": "stream",
     "text": [
      "The data ranges from 2015-01-04 to 2016-06-29.\n"
     ]
    }
   ],
   "source": [
    "# Turn all caps into title or capitalized spelling\n",
    "pirate_data[\"REGION\"] = pirate_data[\"REGION\"].str.title()\n",
    "pirate_data[\"COUNTRY\"] = pirate_data[\"COUNTRY\"].str.title()\n",
    "pirate_data[\"INCIDENT TYPE\"] = pirate_data[\"INCIDENT TYPE\"].str.capitalize()\n",
    "pirate_data[\"VESSEL TYPE\"] = pirate_data[\"VESSEL TYPE\"].str.capitalize()\n",
    "pirate_data[\"VESSEL ACTIVITY LOCATION\"] = pirate_data[\"VESSEL ACTIVITY LOCATION\"].str.capitalize()\n",
    "pirate_data[\"TIME OF DAY\"] = pirate_data[\"TIME OF DAY\"].str.title()\n",
    "\n",
    "# Sort by date\n",
    "pirate_data = pirate_data.sort_values([\"DATE (LT)\"])\n",
    "print(f\"The data ranges from {pirate_data['DATE (LT)'].min()} to {pirate_data['DATE (LT)'].max()}.\")"
   ]
  },
  {
   "cell_type": "markdown",
   "metadata": {},
   "source": [
    "### Extract useful information from the time stamp"
   ]
  },
  {
   "cell_type": "code",
   "execution_count": 22,
   "metadata": {},
   "outputs": [],
   "source": [
    "# We need only one type of date; remove three out of four.\n",
    "pirate_data = pirate_data.drop(columns = [\"DATETIME (LOCAL)\",\"DATETIME (UTC)\", \"DATE (UTC)\"])\n",
    "pirate_data['DATE (LT)'] = pd.to_datetime(pirate_data['DATE (LT)'])\n",
    "\n",
    "# Extract day, month etc. from timestamp\n",
    "pirate_data['YEAR'] = pirate_data['DATE (LT)'].dt.year\n",
    "pirate_data['MONTH'] = pirate_data['DATE (LT)'].dt.month\n",
    "pirate_data['WEEK'] = pirate_data['DATE (LT)'].dt.isocalendar().week\n",
    "pirate_data['DAY'] = pirate_data['DATE (LT)'].dt.day\n",
    "pirate_data['WEEKDAY'] = pirate_data['DATE (LT)'].dt.dayofweek\n",
    "pirate_data['YEAR_MONTH'] = pirate_data['DATE (LT)'].dt.strftime('%Y-%m')"
   ]
  },
  {
   "cell_type": "code",
   "execution_count": 23,
   "metadata": {},
   "outputs": [
    {
     "data": {
      "text/html": [
       "<div>\n",
       "<style scoped>\n",
       "    .dataframe tbody tr th:only-of-type {\n",
       "        vertical-align: middle;\n",
       "    }\n",
       "\n",
       "    .dataframe tbody tr th {\n",
       "        vertical-align: top;\n",
       "    }\n",
       "\n",
       "    .dataframe thead th {\n",
       "        text-align: right;\n",
       "    }\n",
       "</style>\n",
       "<table border=\"1\" class=\"dataframe\">\n",
       "  <thead>\n",
       "    <tr style=\"text-align: right;\">\n",
       "      <th></th>\n",
       "      <th>DATE (LT)</th>\n",
       "      <th>REGION</th>\n",
       "      <th>COUNTRY</th>\n",
       "      <th>INCIDENT TYPE</th>\n",
       "      <th>VESSEL TYPE</th>\n",
       "      <th>MAERSK?</th>\n",
       "      <th>VESSEL ACTIVITY LOCATION</th>\n",
       "      <th>LAT</th>\n",
       "      <th>LONG</th>\n",
       "      <th>TIMEZONE</th>\n",
       "      <th>TIME OF DAY</th>\n",
       "      <th>ATTACKS</th>\n",
       "      <th>ATTACK SUCCESS</th>\n",
       "      <th>YEAR</th>\n",
       "      <th>MONTH</th>\n",
       "      <th>WEEK</th>\n",
       "      <th>DAY</th>\n",
       "      <th>WEEKDAY</th>\n",
       "      <th>YEAR_MONTH</th>\n",
       "    </tr>\n",
       "  </thead>\n",
       "  <tbody>\n",
       "    <tr>\n",
       "      <th>703</th>\n",
       "      <td>2015-01-04</td>\n",
       "      <td>Horn Of Africa/ Gulf Of Aden</td>\n",
       "      <td>Djibouti</td>\n",
       "      <td>Suspicious activity at sea</td>\n",
       "      <td>Merchant vessel</td>\n",
       "      <td>0</td>\n",
       "      <td>Off shore</td>\n",
       "      <td>12.553333</td>\n",
       "      <td>43.426667</td>\n",
       "      <td>Africa/Nairobi</td>\n",
       "      <td>Unknown</td>\n",
       "      <td>1</td>\n",
       "      <td>0</td>\n",
       "      <td>2015</td>\n",
       "      <td>1</td>\n",
       "      <td>1</td>\n",
       "      <td>4</td>\n",
       "      <td>6</td>\n",
       "      <td>2015-01</td>\n",
       "    </tr>\n",
       "    <tr>\n",
       "      <th>702</th>\n",
       "      <td>2015-01-04</td>\n",
       "      <td>South East Asia</td>\n",
       "      <td>Singapore</td>\n",
       "      <td>Theft at sea</td>\n",
       "      <td>Tug</td>\n",
       "      <td>0</td>\n",
       "      <td>Off shore</td>\n",
       "      <td>1.324500</td>\n",
       "      <td>104.541500</td>\n",
       "      <td>Asia/Kuala_Lumpur</td>\n",
       "      <td>Morning</td>\n",
       "      <td>1</td>\n",
       "      <td>1</td>\n",
       "      <td>2015</td>\n",
       "      <td>1</td>\n",
       "      <td>1</td>\n",
       "      <td>4</td>\n",
       "      <td>6</td>\n",
       "      <td>2015-01</td>\n",
       "    </tr>\n",
       "    <tr>\n",
       "      <th>701</th>\n",
       "      <td>2015-01-04</td>\n",
       "      <td>North Africa</td>\n",
       "      <td>Libya</td>\n",
       "      <td>Other maritime risk</td>\n",
       "      <td>Crude oil tanker</td>\n",
       "      <td>0</td>\n",
       "      <td>Anchorage</td>\n",
       "      <td>32.780116</td>\n",
       "      <td>22.663078</td>\n",
       "      <td>Africa/Tripoli</td>\n",
       "      <td>Afternoon</td>\n",
       "      <td>1</td>\n",
       "      <td>1</td>\n",
       "      <td>2015</td>\n",
       "      <td>1</td>\n",
       "      <td>1</td>\n",
       "      <td>4</td>\n",
       "      <td>6</td>\n",
       "      <td>2015-01</td>\n",
       "    </tr>\n",
       "    <tr>\n",
       "      <th>700</th>\n",
       "      <td>2015-01-06</td>\n",
       "      <td>Horn Of Africa/ Gulf Of Aden</td>\n",
       "      <td>Djibouti</td>\n",
       "      <td>Suspicious activity at sea</td>\n",
       "      <td>Merchant vessel</td>\n",
       "      <td>0</td>\n",
       "      <td>Off shore</td>\n",
       "      <td>13.253333</td>\n",
       "      <td>42.956667</td>\n",
       "      <td>Asia/Riyadh</td>\n",
       "      <td>Afternoon</td>\n",
       "      <td>1</td>\n",
       "      <td>0</td>\n",
       "      <td>2015</td>\n",
       "      <td>1</td>\n",
       "      <td>2</td>\n",
       "      <td>6</td>\n",
       "      <td>1</td>\n",
       "      <td>2015-01</td>\n",
       "    </tr>\n",
       "    <tr>\n",
       "      <th>699</th>\n",
       "      <td>2015-01-07</td>\n",
       "      <td>West Africa</td>\n",
       "      <td>Nigeria</td>\n",
       "      <td>Kidnap/ransom at anchorage</td>\n",
       "      <td>NaN</td>\n",
       "      <td>0</td>\n",
       "      <td>Anchorage</td>\n",
       "      <td>4.638297</td>\n",
       "      <td>6.812897</td>\n",
       "      <td>Africa/Lagos</td>\n",
       "      <td>Unknown</td>\n",
       "      <td>1</td>\n",
       "      <td>1</td>\n",
       "      <td>2015</td>\n",
       "      <td>1</td>\n",
       "      <td>2</td>\n",
       "      <td>7</td>\n",
       "      <td>2</td>\n",
       "      <td>2015-01</td>\n",
       "    </tr>\n",
       "  </tbody>\n",
       "</table>\n",
       "</div>"
      ],
      "text/plain": [
       "     DATE (LT)                        REGION    COUNTRY  \\\n",
       "703 2015-01-04  Horn Of Africa/ Gulf Of Aden   Djibouti   \n",
       "702 2015-01-04               South East Asia  Singapore   \n",
       "701 2015-01-04                  North Africa      Libya   \n",
       "700 2015-01-06  Horn Of Africa/ Gulf Of Aden   Djibouti   \n",
       "699 2015-01-07                   West Africa    Nigeria   \n",
       "\n",
       "                  INCIDENT TYPE       VESSEL TYPE  MAERSK?  \\\n",
       "703  Suspicious activity at sea   Merchant vessel        0   \n",
       "702                Theft at sea               Tug        0   \n",
       "701         Other maritime risk  Crude oil tanker        0   \n",
       "700  Suspicious activity at sea   Merchant vessel        0   \n",
       "699  Kidnap/ransom at anchorage               NaN        0   \n",
       "\n",
       "    VESSEL ACTIVITY LOCATION        LAT        LONG           TIMEZONE  \\\n",
       "703                Off shore  12.553333   43.426667     Africa/Nairobi   \n",
       "702                Off shore   1.324500  104.541500  Asia/Kuala_Lumpur   \n",
       "701                Anchorage  32.780116   22.663078     Africa/Tripoli   \n",
       "700                Off shore  13.253333   42.956667        Asia/Riyadh   \n",
       "699                Anchorage   4.638297    6.812897       Africa/Lagos   \n",
       "\n",
       "    TIME OF DAY  ATTACKS  ATTACK SUCCESS  YEAR  MONTH  WEEK  DAY  WEEKDAY  \\\n",
       "703     Unknown        1               0  2015      1     1    4        6   \n",
       "702     Morning        1               1  2015      1     1    4        6   \n",
       "701   Afternoon        1               1  2015      1     1    4        6   \n",
       "700   Afternoon        1               0  2015      1     2    6        1   \n",
       "699     Unknown        1               1  2015      1     2    7        2   \n",
       "\n",
       "    YEAR_MONTH  \n",
       "703    2015-01  \n",
       "702    2015-01  \n",
       "701    2015-01  \n",
       "700    2015-01  \n",
       "699    2015-01  "
      ]
     },
     "execution_count": 23,
     "metadata": {},
     "output_type": "execute_result"
    }
   ],
   "source": [
    "pirate_data.head()"
   ]
  },
  {
   "cell_type": "markdown",
   "metadata": {},
   "source": [
    "### Check the data types and classes"
   ]
  },
  {
   "cell_type": "code",
   "execution_count": 24,
   "metadata": {},
   "outputs": [
    {
     "data": {
      "text/plain": [
       "DATE (LT)                   datetime64[ns]\n",
       "REGION                              object\n",
       "COUNTRY                             object\n",
       "INCIDENT TYPE                       object\n",
       "VESSEL TYPE                         object\n",
       "MAERSK?                              int64\n",
       "VESSEL ACTIVITY LOCATION            object\n",
       "LAT                                float64\n",
       "LONG                               float64\n",
       "TIMEZONE                            object\n",
       "TIME OF DAY                         object\n",
       "ATTACKS                              int64\n",
       "ATTACK SUCCESS                       int64\n",
       "YEAR                                 int64\n",
       "MONTH                                int64\n",
       "WEEK                                UInt32\n",
       "DAY                                  int64\n",
       "WEEKDAY                              int64\n",
       "YEAR_MONTH                          object\n",
       "dtype: object"
      ]
     },
     "execution_count": 24,
     "metadata": {},
     "output_type": "execute_result"
    }
   ],
   "source": [
    "pirate_data.dtypes"
   ]
  },
  {
   "cell_type": "code",
   "execution_count": 25,
   "metadata": {},
   "outputs": [
    {
     "data": {
      "text/plain": [
       "1    500\n",
       "0    302\n",
       "Name: ATTACK SUCCESS, dtype: int64"
      ]
     },
     "execution_count": 25,
     "metadata": {},
     "output_type": "execute_result"
    }
   ],
   "source": [
    "pirate_data['ATTACK SUCCESS'].value_counts()\n",
    "# The data set is not well balanced."
   ]
  },
  {
   "cell_type": "markdown",
   "metadata": {},
   "source": [
    "### Filling in missing values"
   ]
  },
  {
   "cell_type": "code",
   "execution_count": 26,
   "metadata": {},
   "outputs": [
    {
     "data": {
      "text/plain": [
       "DATE (LT)                     0\n",
       "REGION                        0\n",
       "COUNTRY                       0\n",
       "INCIDENT TYPE                 0\n",
       "VESSEL TYPE                 164\n",
       "MAERSK?                       0\n",
       "VESSEL ACTIVITY LOCATION    126\n",
       "LAT                           0\n",
       "LONG                          0\n",
       "TIMEZONE                      0\n",
       "TIME OF DAY                   0\n",
       "ATTACKS                       0\n",
       "ATTACK SUCCESS                0\n",
       "YEAR                          0\n",
       "MONTH                         0\n",
       "WEEK                          0\n",
       "DAY                           0\n",
       "WEEKDAY                       0\n",
       "YEAR_MONTH                    0\n",
       "dtype: int64"
      ]
     },
     "execution_count": 26,
     "metadata": {},
     "output_type": "execute_result"
    }
   ],
   "source": [
    "pirate_data.isna().sum()\n",
    "# There is some missing data."
   ]
  },
  {
   "cell_type": "code",
   "execution_count": 27,
   "metadata": {},
   "outputs": [],
   "source": [
    "pirate_data['VESSEL TYPE'] = pirate_data['VESSEL TYPE'].fillna(\"Unknown\")"
   ]
  },
  {
   "cell_type": "code",
   "execution_count": 28,
   "metadata": {},
   "outputs": [],
   "source": [
    "pirate_data['VESSEL ACTIVITY LOCATION'] = pirate_data['VESSEL ACTIVITY LOCATION'].fillna(\"Unknown\")"
   ]
  },
  {
   "cell_type": "markdown",
   "metadata": {},
   "source": [
    "### Aggregate categories with few occurrences"
   ]
  },
  {
   "cell_type": "code",
   "execution_count": 29,
   "metadata": {},
   "outputs": [
    {
     "data": {
      "text/plain": [
       "Off shore    421\n",
       "Anchorage    198\n",
       "Unknown      126\n",
       "Berth         57\n",
       "Name: VESSEL ACTIVITY LOCATION, dtype: int64"
      ]
     },
     "execution_count": 29,
     "metadata": {},
     "output_type": "execute_result"
    }
   ],
   "source": [
    "pirate_data['VESSEL ACTIVITY LOCATION'].value_counts()\n",
    "# This is fine."
   ]
  },
  {
   "cell_type": "code",
   "execution_count": 30,
   "metadata": {},
   "outputs": [
    {
     "data": {
      "text/plain": [
       "Unknown vessel type     174\n",
       "Bulk carrier            134\n",
       "Product tanker          107\n",
       "Container ship           60\n",
       "Other                    49\n",
       "Fishing vessel           46\n",
       "Tug                      34\n",
       "Tanker                   34\n",
       "Merchant vessel          30\n",
       "Crude oil tanker         28\n",
       "General cargo vessel     28\n",
       "Supply vessel            25\n",
       "Passenger vessel         25\n",
       "Chemical tanker          15\n",
       "Gas tanker               13\n",
       "Name: VESSEL TYPE, dtype: int64"
      ]
     },
     "execution_count": 30,
     "metadata": {},
     "output_type": "execute_result"
    }
   ],
   "source": [
    "# Reduce the number of vessel types\n",
    "pirate_data[\"VESSEL TYPE\"] = pirate_data[\"VESSEL TYPE\"].replace(\"Unknown\", \"Unknown vessel type\")\n",
    "pirate_data[\"VESSEL TYPE\"] = pirate_data[\"VESSEL TYPE\"].replace([\"Fishing trawler\", \"Trawler\", \"Fishing dhow\"], \n",
    "                                                                \"Fishing vessel\") \n",
    "pirate_data[\"VESSEL TYPE\"] = pirate_data[\"VESSEL TYPE\"].replace([\"Lng tanker\", \"Lng carrier\", \"Lpg tanker\"], \n",
    "                                                                \"Gas tanker\")\n",
    "pirate_data[\"VESSEL TYPE\"] = pirate_data[\"VESSEL TYPE\"].replace([\n",
    "    'Vehicle carrier', 'Yacht', 'Other vessel type', 'Schooner', 'Small craft', 'Skipper', 'Reefer', 'Barge',\n",
    "    'Floating storage offloading vessel', 'Wood chips carrier', 'Dredger', 'Crew vessel', 'Drillship', \n",
    "    'Heavy lift vessel', 'Cable layer', '', 'Motor vessel', 'Ore carrier', 'Pipe-layer', 'Oil rig', \n",
    "    'Research vessel', 'Security vessel', 'Ro-ro vessel', 'Surveillance vessel', 'Local craft', \n",
    "    'Bunker barge', 'Naval vessel'], \"Other\")\n",
    "\n",
    "\n",
    "pirate_data['VESSEL TYPE'].value_counts()"
   ]
  },
  {
   "cell_type": "code",
   "execution_count": 31,
   "metadata": {},
   "outputs": [
    {
     "data": {
      "text/plain": [
       "South East Asia          316\n",
       "West Africa              288\n",
       "South Asia                67\n",
       "East Africa               42\n",
       "Americas                  31\n",
       "Eastern Mediterranean     30\n",
       "North Africa              18\n",
       "North East Asia           10\n",
       "Name: REGION, dtype: int64"
      ]
     },
     "execution_count": 31,
     "metadata": {},
     "output_type": "execute_result"
    }
   ],
   "source": [
    "# Clean up the regions\n",
    "pirate_data[\"REGION\"] = pirate_data[\"REGION\"].replace([\"North America\", \"South America\", \n",
    "                                                         \"Caribbean\"], \"Americas\")\n",
    "pirate_data[\"REGION\"] = pirate_data[\"REGION\"].replace([\"Europe\", \"Middle East\"], \"Eastern Mediterranean\")\n",
    "pirate_data[\"REGION\"] = pirate_data[\"REGION\"].replace(\"Horn Of Africa/ Gulf Of Aden\", \"East Africa\")\n",
    "pirate_data[\"REGION\"] = pirate_data[\"REGION\"].replace(\"Pacific\", \"South East Asia\")\n",
    "\n",
    "pirate_data['REGION'].value_counts()\n",
    "# One occurrence in India is still classified as 'East Africa'?!"
   ]
  },
  {
   "cell_type": "code",
   "execution_count": 32,
   "metadata": {},
   "outputs": [
    {
     "data": {
      "text/plain": [
       "array(['Djibouti', 'Singapore', 'Libya', 'Nigeria', 'Indonesia',\n",
       "       'Colombia', 'Iraq', 'Ghana', \"Cote D'Ivoire\", 'Liberia', 'Angola',\n",
       "       'Ukraine', 'Oman', 'Vietnam', 'Malaysia', 'India', 'Benin', 'Togo',\n",
       "       'Honduras', 'Brazil', 'Papua New Guinea', 'Sierra Leone', 'Guinea',\n",
       "       'Guinea-Bissau', 'Cameroon', 'Senegal', 'Bangladesh',\n",
       "       'Philippines', 'Somalia', 'Congo', 'Yemen', 'Thailand', 'Iran',\n",
       "       'Trinidad And Tobago', 'Panama', 'Mozambique', 'Kenya', 'Egypt',\n",
       "       'China', 'Venezuela', 'Bahrain', 'South Africa', 'South Korea',\n",
       "       'Tanzania', 'Finland', 'Usa', 'Haiti', 'New Zealand', 'Turkey',\n",
       "       'Australia', 'Peru', 'Guyana', 'Equatorial Guinea', 'Argentina',\n",
       "       'Bahamas'], dtype=object)"
      ]
     },
     "execution_count": 32,
     "metadata": {},
     "output_type": "execute_result"
    }
   ],
   "source": [
    "pirate_data['COUNTRY'].unique()\n",
    "# This feature is probably too granular for the model, but useful for visualization."
   ]
  },
  {
   "cell_type": "code",
   "execution_count": 33,
   "metadata": {},
   "outputs": [
    {
     "data": {
      "text/plain": [
       "Africa/Lagos         226\n",
       "Asia/Jakarta         155\n",
       "Asia/Dhaka            39\n",
       "Asia/Kuala_Lumpur     39\n",
       "Asia/Ho_Chi_Minh      35\n",
       "Asia/Kolkata          29\n",
       "Africa/Abidjan        27\n",
       "Asia/Riyadh           24\n",
       "Asia/Manila           23\n",
       "Asia/Pontianak        21\n",
       "Africa/Accra          20\n",
       "Africa/Tripoli        19\n",
       "Asia/Singapore        18\n",
       "Africa/Nairobi        14\n",
       "Asia/Makassar         12\n",
       "Name: TIMEZONE, dtype: int64"
      ]
     },
     "execution_count": 33,
     "metadata": {},
     "output_type": "execute_result"
    }
   ],
   "source": [
    "pirate_data['TIMEZONE'].value_counts().head(15)\n",
    "# Too many categories and we already have information on the region. We can drop this column."
   ]
  },
  {
   "cell_type": "code",
   "execution_count": 34,
   "metadata": {},
   "outputs": [],
   "source": [
    "pirate_data = pirate_data.drop(columns = \"TIMEZONE\")"
   ]
  },
  {
   "cell_type": "code",
   "execution_count": 35,
   "metadata": {},
   "outputs": [
    {
     "data": {
      "text/plain": [
       "DATE (LT)                   datetime64[ns]\n",
       "REGION                              object\n",
       "COUNTRY                             object\n",
       "INCIDENT TYPE                       object\n",
       "VESSEL TYPE                         object\n",
       "MAERSK?                              int64\n",
       "VESSEL ACTIVITY LOCATION            object\n",
       "LAT                                float64\n",
       "LONG                               float64\n",
       "TIME OF DAY                         object\n",
       "ATTACKS                              int64\n",
       "ATTACK SUCCESS                       int64\n",
       "YEAR                                 int64\n",
       "MONTH                                int64\n",
       "WEEK                                UInt32\n",
       "DAY                                  int64\n",
       "WEEKDAY                              int64\n",
       "YEAR_MONTH                          object\n",
       "dtype: object"
      ]
     },
     "execution_count": 35,
     "metadata": {},
     "output_type": "execute_result"
    }
   ],
   "source": [
    "# Remaining columns with data types:\n",
    "pirate_data.dtypes"
   ]
  },
  {
   "cell_type": "code",
   "execution_count": 36,
   "metadata": {},
   "outputs": [],
   "source": [
    "pirate_data.to_csv(\"data/pirate_data_cleaned.csv\")"
   ]
  }
 ],
 "metadata": {
  "kernelspec": {
   "display_name": "Python 3",
   "language": "python",
   "name": "python3"
  },
  "language_info": {
   "codemirror_mode": {
    "name": "ipython",
    "version": 3
   },
   "file_extension": ".py",
   "mimetype": "text/x-python",
   "name": "python",
   "nbconvert_exporter": "python",
   "pygments_lexer": "ipython3",
   "version": "3.8.5"
  },
  "toc": {
   "base_numbering": 1,
   "nav_menu": {
    "height": "401px",
    "width": "461px"
   },
   "number_sections": false,
   "sideBar": true,
   "skip_h1_title": false,
   "title_cell": "Table of Contents",
   "title_sidebar": "Contents",
   "toc_cell": true,
   "toc_position": {
    "height": "calc(100% - 180px)",
    "left": "10px",
    "top": "150px",
    "width": "221.3px"
   },
   "toc_section_display": true,
   "toc_window_display": true
  }
 },
 "nbformat": 4,
 "nbformat_minor": 4
}
