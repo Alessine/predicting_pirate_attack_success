{
 "cells": [
  {
   "cell_type": "markdown",
   "metadata": {},
   "source": [
    "# Predicting the Success of Pirate Attacks\n",
    "    \n",
    "___"
   ]
  },
  {
   "cell_type": "markdown",
   "metadata": {},
   "source": [
    "<img src = \"lego_pirates.jpg\" width = \"1000\" align = \"left\"/>\n"
   ]
  },
  {
   "cell_type": "markdown",
   "metadata": {},
   "source": [
    "Image copyright: LEGO Group"
   ]
  },
  {
   "cell_type": "markdown",
   "metadata": {},
   "source": [
    "## 1) Introduction"
   ]
  },
  {
   "cell_type": "markdown",
   "metadata": {},
   "source": [
    "<h3>Table of Contents<span class=\"tocSkip\"></span></h3>\n",
    "<div class=\"toc\"><ul class=\"toc-item\"><li><span><a href=\"#Dataset\" data-toc-modified-id=\"Dataset-1.1.1\">Dataset</a></span></li><li><span><a href=\"#Assignment-Description\" data-toc-modified-id=\"Assignment-Description-1.1.2\">Assignment Description</a></span></li></ul></div>"
   ]
  },
  {
   "cell_type": "markdown",
   "metadata": {},
   "source": [
    "### Dataset\n",
    "\n",
    "You are provided with a dataset on vessels that have been attacked by pirates. Your dataset describes the attributes of a successful (1) and an unsuccessful (0) attack. The columns are described as follow:\n",
    "\n",
    "        DATETIME (LOCAL): The local date and time of when the attack occurred\n",
    "        DATETIME (UTC): The date and time in UTC format of when the attack occurred\n",
    "        DATE (LT): The date in local time of when the attack occurred\n",
    "        DATE (UTC): The date in UTC format of when the attack occurred\n",
    "        REGION: Region in which the attack took place\n",
    "        COUNTRY: Country of the occurrence\n",
    "        INCIDENT TYPE: Type of the attack\n",
    "        MAERSK: Indicates whether the attacked vessel belonged to the MAERSK shipping company\n",
    "        VESSEL ACTIVITY LOCATION: Location of the vessel during attack\n",
    "        LAT: Latitude coordinate of attack\n",
    "        LONG: Longitude coordinate of attack\n",
    "        TIMEZONE: Time zone in which the attack occurred\n",
    "        TIME OF DAY: General time of day when the attack occurred\n",
    "        ATTACKS: Indicate whether the attack occurred (1: attack occurred, 0: attack did not occur)\n",
    "        ATTACK SUCCESS: Indicate whether the attack was successful (1) or not (0)."
   ]
  },
  {
   "cell_type": "markdown",
   "metadata": {},
   "source": [
    "### Assignment Description"
   ]
  },
  {
   "cell_type": "markdown",
   "metadata": {},
   "source": [
    "\n",
    "Your task is to predict whether an attack is likely to be successful.\n",
    "\n",
    "Clean and preprocess the data. This includes:\n",
    "- Select features.\n",
    "- One-hot encode categorical variables.\n",
    "- How do you handle the date?\n",
    "- Aggregate categories with few occurrences.\n",
    "\n",
    "Compare the performance of different models. Run all of them, identify the best performing one and tune it. \n",
    "\n",
    "Finally, explain how it reaches a prediction.\n",
    "\n",
    "**Note:** This repo took shape during my Data Science course at Propulsion Academy and was inspired by various in-class exercises. It gives a good overview of the content covered during the first month."
   ]
  },
  {
   "cell_type": "code",
   "execution_count": null,
   "metadata": {},
   "outputs": [],
   "source": [
    "import pandas as pd"
   ]
  },
  {
   "cell_type": "code",
   "execution_count": null,
   "metadata": {
    "scrolled": true
   },
   "outputs": [],
   "source": [
    "pirate_data = pd.read_csv(f\"data/pirate_data.csv\", index_col = 0)\n",
    "pirate_data.head()"
   ]
  }
 ],
 "metadata": {
  "kernelspec": {
   "display_name": "Python 3",
   "language": "python",
   "name": "python3"
  },
  "language_info": {
   "codemirror_mode": {
    "name": "ipython",
    "version": 3
   },
   "file_extension": ".py",
   "mimetype": "text/x-python",
   "name": "python",
   "nbconvert_exporter": "python",
   "pygments_lexer": "ipython3",
   "version": "3.8.5"
  },
  "toc": {
   "base_numbering": 1,
   "nav_menu": {
    "height": "401px",
    "width": "461px"
   },
   "number_sections": false,
   "sideBar": true,
   "skip_h1_title": false,
   "title_cell": "Table of Contents",
   "title_sidebar": "Contents",
   "toc_cell": false,
   "toc_position": {
    "height": "calc(100% - 180px)",
    "left": "10px",
    "top": "150px",
    "width": "165px"
   },
   "toc_section_display": true,
   "toc_window_display": true
  }
 },
 "nbformat": 4,
 "nbformat_minor": 4
}
