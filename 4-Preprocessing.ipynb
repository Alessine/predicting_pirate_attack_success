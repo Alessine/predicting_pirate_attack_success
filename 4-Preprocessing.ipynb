{
 "cells": [
  {
   "cell_type": "markdown",
   "metadata": {
    "toc": true
   },
   "source": [
    "<h1>Table of Contents<span class=\"tocSkip\"></span></h1>\n",
    "<div class=\"toc\"><ul class=\"toc-item\"><li><span><a href=\"#4)-Preprocessing\" data-toc-modified-id=\"4)-Preprocessing-1\">4) Preprocessing</a></span><ul class=\"toc-item\"><li><span><a href=\"#Feature-Selection\" data-toc-modified-id=\"Feature-Selection-1.1\">Feature Selection</a></span></li><li><span><a href=\"#Scaling-and-one-hot-encoding-the-data\" data-toc-modified-id=\"Scaling-and-one-hot-encoding-the-data-1.2\">Scaling and one-hot encoding the data</a></span></li><li><span><a href=\"#Splitting-and-resampling\" data-toc-modified-id=\"Splitting-and-resampling-1.3\">Splitting and resampling</a></span></li></ul></li></ul></div>"
   ]
  },
  {
   "cell_type": "markdown",
   "metadata": {},
   "source": [
    "## 4) Preprocessing"
   ]
  },
  {
   "cell_type": "code",
   "execution_count": 1,
   "metadata": {},
   "outputs": [],
   "source": [
    "import numpy as np\n",
    "import pandas as pd\n",
    "import matplotlib.pyplot as plt\n",
    "import seaborn as sns\n",
    "from sklearn import preprocessing\n",
    "from sklearn.model_selection import train_test_split\n",
    "from imblearn.over_sampling import SMOTE"
   ]
  },
  {
   "cell_type": "code",
   "execution_count": 2,
   "metadata": {},
   "outputs": [
    {
     "data": {
      "text/html": [
       "<div>\n",
       "<style scoped>\n",
       "    .dataframe tbody tr th:only-of-type {\n",
       "        vertical-align: middle;\n",
       "    }\n",
       "\n",
       "    .dataframe tbody tr th {\n",
       "        vertical-align: top;\n",
       "    }\n",
       "\n",
       "    .dataframe thead th {\n",
       "        text-align: right;\n",
       "    }\n",
       "</style>\n",
       "<table border=\"1\" class=\"dataframe\">\n",
       "  <thead>\n",
       "    <tr style=\"text-align: right;\">\n",
       "      <th></th>\n",
       "      <th>DATE (LT)</th>\n",
       "      <th>REGION</th>\n",
       "      <th>COUNTRY</th>\n",
       "      <th>INCIDENT TYPE</th>\n",
       "      <th>VESSEL TYPE</th>\n",
       "      <th>MAERSK?</th>\n",
       "      <th>VESSEL ACTIVITY LOCATION</th>\n",
       "      <th>LAT</th>\n",
       "      <th>LONG</th>\n",
       "      <th>TIME OF DAY</th>\n",
       "      <th>...</th>\n",
       "      <th>MONTH</th>\n",
       "      <th>WEEK</th>\n",
       "      <th>DAY</th>\n",
       "      <th>WEEKDAY</th>\n",
       "      <th>YEAR_MONTH</th>\n",
       "      <th>X</th>\n",
       "      <th>Y</th>\n",
       "      <th>datestring</th>\n",
       "      <th>color</th>\n",
       "      <th>REGION_NR</th>\n",
       "    </tr>\n",
       "  </thead>\n",
       "  <tbody>\n",
       "    <tr>\n",
       "      <th>703</th>\n",
       "      <td>2015-01-04</td>\n",
       "      <td>East Africa</td>\n",
       "      <td>Djibouti</td>\n",
       "      <td>Suspicious activity at sea</td>\n",
       "      <td>Merchant vessel</td>\n",
       "      <td>0</td>\n",
       "      <td>Off shore</td>\n",
       "      <td>12.553333</td>\n",
       "      <td>43.426667</td>\n",
       "      <td>Unknown</td>\n",
       "      <td>...</td>\n",
       "      <td>1</td>\n",
       "      <td>1</td>\n",
       "      <td>4</td>\n",
       "      <td>6</td>\n",
       "      <td>2015-01</td>\n",
       "      <td>4.834234e+06</td>\n",
       "      <td>1.408747e+06</td>\n",
       "      <td>2015-01-04</td>\n",
       "      <td>#1f78b4</td>\n",
       "      <td>1</td>\n",
       "    </tr>\n",
       "    <tr>\n",
       "      <th>702</th>\n",
       "      <td>2015-01-04</td>\n",
       "      <td>South East Asia</td>\n",
       "      <td>Singapore</td>\n",
       "      <td>Theft at sea</td>\n",
       "      <td>Tug</td>\n",
       "      <td>0</td>\n",
       "      <td>Off shore</td>\n",
       "      <td>1.324500</td>\n",
       "      <td>104.541500</td>\n",
       "      <td>Morning</td>\n",
       "      <td>...</td>\n",
       "      <td>1</td>\n",
       "      <td>1</td>\n",
       "      <td>4</td>\n",
       "      <td>6</td>\n",
       "      <td>2015-01</td>\n",
       "      <td>1.163751e+07</td>\n",
       "      <td>1.474558e+05</td>\n",
       "      <td>2015-01-04</td>\n",
       "      <td>#fdbf6f</td>\n",
       "      <td>6</td>\n",
       "    </tr>\n",
       "    <tr>\n",
       "      <th>701</th>\n",
       "      <td>2015-01-04</td>\n",
       "      <td>North Africa</td>\n",
       "      <td>Libya</td>\n",
       "      <td>Other maritime risk</td>\n",
       "      <td>Crude oil tanker</td>\n",
       "      <td>0</td>\n",
       "      <td>Anchorage</td>\n",
       "      <td>32.780116</td>\n",
       "      <td>22.663078</td>\n",
       "      <td>Afternoon</td>\n",
       "      <td>...</td>\n",
       "      <td>1</td>\n",
       "      <td>1</td>\n",
       "      <td>4</td>\n",
       "      <td>6</td>\n",
       "      <td>2015-01</td>\n",
       "      <td>2.522842e+06</td>\n",
       "      <td>3.866154e+06</td>\n",
       "      <td>2015-01-04</td>\n",
       "      <td>#fdbf6f</td>\n",
       "      <td>3</td>\n",
       "    </tr>\n",
       "    <tr>\n",
       "      <th>700</th>\n",
       "      <td>2015-01-06</td>\n",
       "      <td>East Africa</td>\n",
       "      <td>Djibouti</td>\n",
       "      <td>Suspicious activity at sea</td>\n",
       "      <td>Merchant vessel</td>\n",
       "      <td>0</td>\n",
       "      <td>Off shore</td>\n",
       "      <td>13.253333</td>\n",
       "      <td>42.956667</td>\n",
       "      <td>Afternoon</td>\n",
       "      <td>...</td>\n",
       "      <td>1</td>\n",
       "      <td>2</td>\n",
       "      <td>6</td>\n",
       "      <td>1</td>\n",
       "      <td>2015-01</td>\n",
       "      <td>4.781914e+06</td>\n",
       "      <td>1.488690e+06</td>\n",
       "      <td>2015-01-06</td>\n",
       "      <td>#1f78b4</td>\n",
       "      <td>1</td>\n",
       "    </tr>\n",
       "    <tr>\n",
       "      <th>699</th>\n",
       "      <td>2015-01-07</td>\n",
       "      <td>West Africa</td>\n",
       "      <td>Nigeria</td>\n",
       "      <td>Kidnap/ransom at anchorage</td>\n",
       "      <td>Unknown vessel type</td>\n",
       "      <td>0</td>\n",
       "      <td>Anchorage</td>\n",
       "      <td>4.638297</td>\n",
       "      <td>6.812897</td>\n",
       "      <td>Unknown</td>\n",
       "      <td>...</td>\n",
       "      <td>1</td>\n",
       "      <td>2</td>\n",
       "      <td>7</td>\n",
       "      <td>2</td>\n",
       "      <td>2015-01</td>\n",
       "      <td>7.584082e+05</td>\n",
       "      <td>5.168978e+05</td>\n",
       "      <td>2015-01-07</td>\n",
       "      <td>#fdbf6f</td>\n",
       "      <td>7</td>\n",
       "    </tr>\n",
       "  </tbody>\n",
       "</table>\n",
       "<p>5 rows × 23 columns</p>\n",
       "</div>"
      ],
      "text/plain": [
       "     DATE (LT)           REGION    COUNTRY               INCIDENT TYPE  \\\n",
       "703 2015-01-04      East Africa   Djibouti  Suspicious activity at sea   \n",
       "702 2015-01-04  South East Asia  Singapore                Theft at sea   \n",
       "701 2015-01-04     North Africa      Libya         Other maritime risk   \n",
       "700 2015-01-06      East Africa   Djibouti  Suspicious activity at sea   \n",
       "699 2015-01-07      West Africa    Nigeria  Kidnap/ransom at anchorage   \n",
       "\n",
       "             VESSEL TYPE  MAERSK? VESSEL ACTIVITY LOCATION        LAT  \\\n",
       "703      Merchant vessel        0                Off shore  12.553333   \n",
       "702                  Tug        0                Off shore   1.324500   \n",
       "701     Crude oil tanker        0                Anchorage  32.780116   \n",
       "700      Merchant vessel        0                Off shore  13.253333   \n",
       "699  Unknown vessel type        0                Anchorage   4.638297   \n",
       "\n",
       "           LONG TIME OF DAY  ...  MONTH  WEEK  DAY  WEEKDAY  YEAR_MONTH  \\\n",
       "703   43.426667     Unknown  ...      1     1    4        6     2015-01   \n",
       "702  104.541500     Morning  ...      1     1    4        6     2015-01   \n",
       "701   22.663078   Afternoon  ...      1     1    4        6     2015-01   \n",
       "700   42.956667   Afternoon  ...      1     2    6        1     2015-01   \n",
       "699    6.812897     Unknown  ...      1     2    7        2     2015-01   \n",
       "\n",
       "                X             Y  datestring    color  REGION_NR  \n",
       "703  4.834234e+06  1.408747e+06  2015-01-04  #1f78b4          1  \n",
       "702  1.163751e+07  1.474558e+05  2015-01-04  #fdbf6f          6  \n",
       "701  2.522842e+06  3.866154e+06  2015-01-04  #fdbf6f          3  \n",
       "700  4.781914e+06  1.488690e+06  2015-01-06  #1f78b4          1  \n",
       "699  7.584082e+05  5.168978e+05  2015-01-07  #fdbf6f          7  \n",
       "\n",
       "[5 rows x 23 columns]"
      ]
     },
     "execution_count": 2,
     "metadata": {},
     "output_type": "execute_result"
    }
   ],
   "source": [
    "pirate_data = pd.read_csv(f\"data/pirate_data_visualized.csv\", index_col = 0)\n",
    "pirate_data['DATE (LT)'] = pd.to_datetime(pirate_data['DATE (LT)'])\n",
    "pirate_data.head()"
   ]
  },
  {
   "cell_type": "markdown",
   "metadata": {},
   "source": [
    "### Feature Selection"
   ]
  },
  {
   "cell_type": "code",
   "execution_count": 3,
   "metadata": {},
   "outputs": [
    {
     "data": {
      "text/plain": [
       "REGION                       object\n",
       "VESSEL TYPE                  object\n",
       "MAERSK?                       int64\n",
       "VESSEL ACTIVITY LOCATION     object\n",
       "LAT                         float64\n",
       "LONG                        float64\n",
       "TIME OF DAY                  object\n",
       "ATTACK SUCCESS                int64\n",
       "YEAR                          int64\n",
       "MONTH                         int64\n",
       "WEEK                          int64\n",
       "DAY                           int64\n",
       "WEEKDAY                       int64\n",
       "dtype: object"
      ]
     },
     "execution_count": 3,
     "metadata": {},
     "output_type": "execute_result"
    }
   ],
   "source": [
    "# The variable \"Incident Type\" would cause data leakage. Others are too granular or were created for visualization.\n",
    "modelling_df = pirate_data.drop(columns=[\"DATE (LT)\", \"INCIDENT TYPE\", \"COUNTRY\", \"ATTACKS\", \"YEAR_MONTH\", \"X\", \n",
    "                                         \"Y\", \"datestring\", \"color\", \"REGION_NR\"])\n",
    "\n",
    "modelling_df[\"WEEK\"] = modelling_df[\"WEEK\"].astype(int)\n",
    "modelling_df.dtypes"
   ]
  },
  {
   "cell_type": "markdown",
   "metadata": {},
   "source": [
    "### Scaling and one-hot encoding the data"
   ]
  },
  {
   "cell_type": "code",
   "execution_count": 4,
   "metadata": {},
   "outputs": [],
   "source": [
    "from sklearn.preprocessing import minmax_scale\n",
    "modelling_df[\"LAT\"] = minmax_scale(X=modelling_df[\"LAT\"])\n",
    "modelling_df[\"LONG\"] = minmax_scale(X=modelling_df[\"LONG\"])\n",
    "\n",
    "OHE = pd.get_dummies(modelling_df[[\"REGION\", \"VESSEL TYPE\", \"VESSEL ACTIVITY LOCATION\", \n",
    "                                       \"TIME OF DAY\", \"YEAR\", \"MONTH\", \"WEEK\", \"DAY\", \"WEEKDAY\"]])\n",
    "\n",
    "modelling_df_merged = pd.concat([modelling_df, OHE], axis = 1, sort = False)\n"
   ]
  },
  {
   "cell_type": "code",
   "execution_count": 5,
   "metadata": {},
   "outputs": [
    {
     "data": {
      "text/html": [
       "<div>\n",
       "<style scoped>\n",
       "    .dataframe tbody tr th:only-of-type {\n",
       "        vertical-align: middle;\n",
       "    }\n",
       "\n",
       "    .dataframe tbody tr th {\n",
       "        vertical-align: top;\n",
       "    }\n",
       "\n",
       "    .dataframe thead th {\n",
       "        text-align: right;\n",
       "    }\n",
       "</style>\n",
       "<table border=\"1\" class=\"dataframe\">\n",
       "  <thead>\n",
       "    <tr style=\"text-align: right;\">\n",
       "      <th></th>\n",
       "      <th>MAERSK?</th>\n",
       "      <th>LAT</th>\n",
       "      <th>LONG</th>\n",
       "      <th>ATTACK SUCCESS</th>\n",
       "      <th>REGION_Americas</th>\n",
       "      <th>REGION_East Africa</th>\n",
       "      <th>REGION_Eastern Mediterranean</th>\n",
       "      <th>REGION_North Africa</th>\n",
       "      <th>REGION_North East Asia</th>\n",
       "      <th>REGION_South Asia</th>\n",
       "      <th>...</th>\n",
       "      <th>VESSEL TYPE_Unknown vessel type</th>\n",
       "      <th>VESSEL ACTIVITY LOCATION_Anchorage</th>\n",
       "      <th>VESSEL ACTIVITY LOCATION_Berth</th>\n",
       "      <th>VESSEL ACTIVITY LOCATION_Off shore</th>\n",
       "      <th>VESSEL ACTIVITY LOCATION_Unknown</th>\n",
       "      <th>TIME OF DAY_Afternoon</th>\n",
       "      <th>TIME OF DAY_Evening</th>\n",
       "      <th>TIME OF DAY_Morning</th>\n",
       "      <th>TIME OF DAY_Night</th>\n",
       "      <th>TIME OF DAY_Unknown</th>\n",
       "    </tr>\n",
       "  </thead>\n",
       "  <tbody>\n",
       "    <tr>\n",
       "      <th>703</th>\n",
       "      <td>0</td>\n",
       "      <td>0.552486</td>\n",
       "      <td>0.553560</td>\n",
       "      <td>0</td>\n",
       "      <td>0</td>\n",
       "      <td>1</td>\n",
       "      <td>0</td>\n",
       "      <td>0</td>\n",
       "      <td>0</td>\n",
       "      <td>0</td>\n",
       "      <td>...</td>\n",
       "      <td>0</td>\n",
       "      <td>0</td>\n",
       "      <td>0</td>\n",
       "      <td>1</td>\n",
       "      <td>0</td>\n",
       "      <td>0</td>\n",
       "      <td>0</td>\n",
       "      <td>0</td>\n",
       "      <td>0</td>\n",
       "      <td>1</td>\n",
       "    </tr>\n",
       "    <tr>\n",
       "      <th>702</th>\n",
       "      <td>0</td>\n",
       "      <td>0.350650</td>\n",
       "      <td>0.807465</td>\n",
       "      <td>1</td>\n",
       "      <td>0</td>\n",
       "      <td>0</td>\n",
       "      <td>0</td>\n",
       "      <td>0</td>\n",
       "      <td>0</td>\n",
       "      <td>0</td>\n",
       "      <td>...</td>\n",
       "      <td>0</td>\n",
       "      <td>0</td>\n",
       "      <td>0</td>\n",
       "      <td>1</td>\n",
       "      <td>0</td>\n",
       "      <td>0</td>\n",
       "      <td>0</td>\n",
       "      <td>1</td>\n",
       "      <td>0</td>\n",
       "      <td>0</td>\n",
       "    </tr>\n",
       "    <tr>\n",
       "      <th>701</th>\n",
       "      <td>0</td>\n",
       "      <td>0.916060</td>\n",
       "      <td>0.467296</td>\n",
       "      <td>1</td>\n",
       "      <td>0</td>\n",
       "      <td>0</td>\n",
       "      <td>0</td>\n",
       "      <td>1</td>\n",
       "      <td>0</td>\n",
       "      <td>0</td>\n",
       "      <td>...</td>\n",
       "      <td>0</td>\n",
       "      <td>1</td>\n",
       "      <td>0</td>\n",
       "      <td>0</td>\n",
       "      <td>0</td>\n",
       "      <td>1</td>\n",
       "      <td>0</td>\n",
       "      <td>0</td>\n",
       "      <td>0</td>\n",
       "      <td>0</td>\n",
       "    </tr>\n",
       "    <tr>\n",
       "      <th>700</th>\n",
       "      <td>0</td>\n",
       "      <td>0.565069</td>\n",
       "      <td>0.551607</td>\n",
       "      <td>0</td>\n",
       "      <td>0</td>\n",
       "      <td>1</td>\n",
       "      <td>0</td>\n",
       "      <td>0</td>\n",
       "      <td>0</td>\n",
       "      <td>0</td>\n",
       "      <td>...</td>\n",
       "      <td>0</td>\n",
       "      <td>0</td>\n",
       "      <td>0</td>\n",
       "      <td>1</td>\n",
       "      <td>0</td>\n",
       "      <td>1</td>\n",
       "      <td>0</td>\n",
       "      <td>0</td>\n",
       "      <td>0</td>\n",
       "      <td>0</td>\n",
       "    </tr>\n",
       "    <tr>\n",
       "      <th>699</th>\n",
       "      <td>0</td>\n",
       "      <td>0.410215</td>\n",
       "      <td>0.401445</td>\n",
       "      <td>1</td>\n",
       "      <td>0</td>\n",
       "      <td>0</td>\n",
       "      <td>0</td>\n",
       "      <td>0</td>\n",
       "      <td>0</td>\n",
       "      <td>0</td>\n",
       "      <td>...</td>\n",
       "      <td>1</td>\n",
       "      <td>1</td>\n",
       "      <td>0</td>\n",
       "      <td>0</td>\n",
       "      <td>0</td>\n",
       "      <td>0</td>\n",
       "      <td>0</td>\n",
       "      <td>0</td>\n",
       "      <td>0</td>\n",
       "      <td>1</td>\n",
       "    </tr>\n",
       "  </tbody>\n",
       "</table>\n",
       "<p>5 rows × 36 columns</p>\n",
       "</div>"
      ],
      "text/plain": [
       "     MAERSK?       LAT      LONG  ATTACK SUCCESS  REGION_Americas  \\\n",
       "703        0  0.552486  0.553560               0                0   \n",
       "702        0  0.350650  0.807465               1                0   \n",
       "701        0  0.916060  0.467296               1                0   \n",
       "700        0  0.565069  0.551607               0                0   \n",
       "699        0  0.410215  0.401445               1                0   \n",
       "\n",
       "     REGION_East Africa  REGION_Eastern Mediterranean  REGION_North Africa  \\\n",
       "703                   1                             0                    0   \n",
       "702                   0                             0                    0   \n",
       "701                   0                             0                    1   \n",
       "700                   1                             0                    0   \n",
       "699                   0                             0                    0   \n",
       "\n",
       "     REGION_North East Asia  REGION_South Asia  ...  \\\n",
       "703                       0                  0  ...   \n",
       "702                       0                  0  ...   \n",
       "701                       0                  0  ...   \n",
       "700                       0                  0  ...   \n",
       "699                       0                  0  ...   \n",
       "\n",
       "     VESSEL TYPE_Unknown vessel type  VESSEL ACTIVITY LOCATION_Anchorage  \\\n",
       "703                                0                                   0   \n",
       "702                                0                                   0   \n",
       "701                                0                                   1   \n",
       "700                                0                                   0   \n",
       "699                                1                                   1   \n",
       "\n",
       "     VESSEL ACTIVITY LOCATION_Berth  VESSEL ACTIVITY LOCATION_Off shore  \\\n",
       "703                               0                                   1   \n",
       "702                               0                                   1   \n",
       "701                               0                                   0   \n",
       "700                               0                                   1   \n",
       "699                               0                                   0   \n",
       "\n",
       "     VESSEL ACTIVITY LOCATION_Unknown  TIME OF DAY_Afternoon  \\\n",
       "703                                 0                      0   \n",
       "702                                 0                      0   \n",
       "701                                 0                      1   \n",
       "700                                 0                      1   \n",
       "699                                 0                      0   \n",
       "\n",
       "     TIME OF DAY_Evening  TIME OF DAY_Morning  TIME OF DAY_Night  \\\n",
       "703                    0                    0                  0   \n",
       "702                    0                    1                  0   \n",
       "701                    0                    0                  0   \n",
       "700                    0                    0                  0   \n",
       "699                    0                    0                  0   \n",
       "\n",
       "     TIME OF DAY_Unknown  \n",
       "703                    1  \n",
       "702                    0  \n",
       "701                    0  \n",
       "700                    0  \n",
       "699                    1  \n",
       "\n",
       "[5 rows x 36 columns]"
      ]
     },
     "execution_count": 5,
     "metadata": {},
     "output_type": "execute_result"
    }
   ],
   "source": [
    "modelling_df_merged = modelling_df_merged.drop(columns = [\"REGION\", \"VESSEL TYPE\", \n",
    "                                                          \"VESSEL ACTIVITY LOCATION\", \"TIME OF DAY\", \"YEAR\", \n",
    "                                                          \"MONTH\", \"WEEK\", \"DAY\", \"WEEKDAY\"])\n",
    "modelling_df_merged.head()"
   ]
  },
  {
   "cell_type": "markdown",
   "metadata": {},
   "source": [
    "Now that all the variables are numeric, we can easily check for correlations between them."
   ]
  },
  {
   "cell_type": "code",
   "execution_count": 6,
   "metadata": {},
   "outputs": [
    {
     "data": {
      "image/png": "[encoded data removed]",
      "text/plain": [
       "<Figure size 1080x1080 with 2 Axes>"
      ]
     },
     "metadata": {
      "needs_background": "light"
     },
     "output_type": "display_data"
    }
   ],
   "source": [
    "variables = modelling_df_merged\n",
    "\n",
    "corr = round(variables.corr(),3)\n",
    "mask = np.triu(np.ones_like(corr, dtype=bool))\n",
    "\n",
    "fig, ax = plt.subplots(figsize=(15, 15))\n",
    "cmap = sns.diverging_palette(230, 20, as_cmap=True)\n",
    "sns.heatmap(corr, mask=mask, cmap= cmap, center=0,\n",
    "            square=True, linewidths=.05, cbar_kws={\"shrink\": .5});\n"
   ]
  },
  {
   "cell_type": "markdown",
   "metadata": {},
   "source": [
    "Some of the regions are correlated with the longitude, but that was to be expected. Also, it makes sense that an unknown vessel type is correlated with an unknown vessel location of the attack. Missing information appears to affect several variables of the same rows at once."
   ]
  },
  {
   "cell_type": "markdown",
   "metadata": {},
   "source": [
    "### Splitting and resampling"
   ]
  },
  {
   "cell_type": "code",
   "execution_count": 8,
   "metadata": {},
   "outputs": [],
   "source": [
    "# Add the date back in for the train/test split.\n",
    "modelling_df_merged_date = pd.concat([modelling_df_merged, pirate_data[\"DATE (LT)\"]], axis = 1, sort = False)"
   ]
  },
  {
   "cell_type": "code",
   "execution_count": 9,
   "metadata": {},
   "outputs": [
    {
     "data": {
      "text/plain": [
       "((642, 36), (143, 36))"
      ]
     },
     "execution_count": 9,
     "metadata": {},
     "output_type": "execute_result"
    }
   ],
   "source": [
    "# Split into independent and dependent variables. \n",
    "X = modelling_df_merged_date.loc[:, modelling_df_merged_date.columns != 'ATTACK SUCCESS']\n",
    "y = modelling_df_merged_date[[\"DATE (LT)\", \"ATTACK SUCCESS\"]]\n",
    "\n",
    "# Then assign data from the last three months to the test set. The rest is training data.\n",
    "X_train = X[X[\"DATE (LT)\"] < \"2016-04-01\"]\n",
    "X_test = X[X[\"DATE (LT)\"] >= \"2016-04-01\"]\n",
    "y_train = y[y[\"DATE (LT)\"] < \"2016-04-01\"]\n",
    "y_test =  y[y[\"DATE (LT)\"] >= \"2016-04-01\"]\n",
    "\n",
    "X_train.shape, X_test.shape"
   ]
  },
  {
   "cell_type": "code",
   "execution_count": 10,
   "metadata": {},
   "outputs": [],
   "source": [
    "# Drop the date column again.\n",
    "X_train = X_train.drop(columns = \"DATE (LT)\")\n",
    "X_test = X_test.drop(columns = \"DATE (LT)\")\n",
    "y_train = y_train.drop(columns = \"DATE (LT)\")\n",
    "y_test = y_test.drop(columns = \"DATE (LT)\")"
   ]
  },
  {
   "cell_type": "code",
   "execution_count": 11,
   "metadata": {},
   "outputs": [
    {
     "data": {
      "text/plain": [
       "(ATTACK SUCCESS\n",
       " 1                 401\n",
       " 0                 241\n",
       " dtype: int64,\n",
       " ATTACK SUCCESS\n",
       " 1                 88\n",
       " 0                 55\n",
       " dtype: int64)"
      ]
     },
     "execution_count": 11,
     "metadata": {},
     "output_type": "execute_result"
    }
   ],
   "source": [
    "y_train.value_counts(), y_test.value_counts()\n",
    "# The data set is unbalanced."
   ]
  },
  {
   "cell_type": "code",
   "execution_count": 12,
   "metadata": {},
   "outputs": [
    {
     "data": {
      "text/plain": [
       "((802, 35), (802, 1))"
      ]
     },
     "execution_count": 12,
     "metadata": {},
     "output_type": "execute_result"
    }
   ],
   "source": [
    "## Use SMOTE to handle the class imbalance.\n",
    "X_train_res, y_train_res = SMOTE().fit_resample(X_train, y_train)\n",
    "X_train_res.shape, y_train_res.shape"
   ]
  },
  {
   "cell_type": "code",
   "execution_count": 13,
   "metadata": {},
   "outputs": [
    {
     "data": {
      "text/plain": [
       "(ATTACK SUCCESS\n",
       " 1                 401\n",
       " 0                 401\n",
       " dtype: int64,\n",
       " ATTACK SUCCESS\n",
       " 1                 88\n",
       " 0                 55\n",
       " dtype: int64)"
      ]
     },
     "execution_count": 13,
     "metadata": {},
     "output_type": "execute_result"
    }
   ],
   "source": [
    "y_train_res.value_counts(), y_test.value_counts()"
   ]
  },
  {
   "cell_type": "code",
   "execution_count": 14,
   "metadata": {},
   "outputs": [],
   "source": [
    "X_train_res.to_csv(\"data/X_train_res.csv\")\n",
    "y_train_res.to_csv(\"data/y_train_res.csv\")\n",
    "X_test.to_csv(\"data/X_test.csv\")\n",
    "y_test.to_csv(\"data/y_test.csv\")"
   ]
  }
 ],
 "metadata": {
  "kernelspec": {
   "display_name": "Python 3",
   "language": "python",
   "name": "python3"
  },
  "language_info": {
   "codemirror_mode": {
    "name": "ipython",
    "version": 3
   },
   "file_extension": ".py",
   "mimetype": "text/x-python",
   "name": "python",
   "nbconvert_exporter": "python",
   "pygments_lexer": "ipython3",
   "version": "3.8.5"
  },
  "toc": {
   "base_numbering": 1,
   "nav_menu": {
    "height": "401px",
    "width": "461px"
   },
   "number_sections": false,
   "sideBar": true,
   "skip_h1_title": false,
   "title_cell": "Table of Contents",
   "title_sidebar": "Contents",
   "toc_cell": true,
   "toc_position": {
    "height": "calc(100% - 180px)",
    "left": "10px",
    "top": "150px",
    "width": "221.3px"
   },
   "toc_section_display": true,
   "toc_window_display": true
  }
 },
 "nbformat": 4,
 "nbformat_minor": 4
}
